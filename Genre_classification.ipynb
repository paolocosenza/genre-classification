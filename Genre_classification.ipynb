{
  "nbformat": 4,
  "nbformat_minor": 0,
  "metadata": {
    "colab": {
      "provenance": [],
      "authorship_tag": "ABX9TyP/cQUQTfpH9E7KHaZbOtr1"
    },
    "kernelspec": {
      "name": "python3",
      "display_name": "Python 3"
    },
    "language_info": {
      "name": "python"
    },
    "accelerator": "GPU",
    "gpuClass": "standard"
  },
  "cells": [
    {
      "cell_type": "code",
      "execution_count": null,
      "metadata": {
        "id": "1Znqj2PoqyOY"
      },
      "outputs": [],
      "source": [
        "import librosa, librosa.display\n",
        "import numpy as np\n",
        "import matplotlib.pyplot as plt\n",
        "%matplotlib inline\n",
        "\n",
        "from google.colab import drive\n",
        "from IPython.display import Image\n",
        "from pathlib import Path\n",
        "from fastai.vision.all import *\n",
        "from ipywidgets import widgets  \n",
        "\n",
        "!pip install youtube_dl\n",
        "\n",
        "drive.mount('/content/drive/')"
      ]
    },
    {
      "cell_type": "code",
      "source": [
        "import youtube_dl\n",
        "def run():\n",
        "    video_url = input(\"Please enter youtube video url:\")\n",
        "    video_info = youtube_dl.YoutubeDL().extract_info(\n",
        "        url = video_url,download=False\n",
        "    )\n",
        "    filename = \"predict.mp3\"\n",
        "    options={\n",
        "        'format':'bestaudio/best',\n",
        "        'keepvideo':False,\n",
        "        'outtmpl':filename,\n",
        "    }\n",
        "\n",
        "    with youtube_dl.YoutubeDL(options) as ydl:\n",
        "        ydl.download([video_info['webpage_url']])\n",
        "\n",
        "    print(\"Download complete!\")\n",
        "\n",
        "if __name__=='__main__':\n",
        "    run()"
      ],
      "metadata": {
        "id": "VFSbuqaHuHf1"
      },
      "execution_count": null,
      "outputs": []
    },
    {
      "cell_type": "code",
      "source": [
        "signal, sr = librosa.load('/content/predict.mp3')"
      ],
      "metadata": {
        "id": "0S_KtsOju_7G"
      },
      "execution_count": null,
      "outputs": []
    },
    {
      "cell_type": "code",
      "source": [
        "# this is the number of samples in a window per fft\n",
        "n_fft = 2048\n",
        "# The amount of samples we are shifting after each fft\n",
        "hop_length = 512\n",
        "# Short-time Fourier Transformation on our audio data\n",
        "audio_stft = librosa.core.stft(signal, hop_length=hop_length, n_fft=n_fft)\n",
        "# gathering the absolute values for all values in our audio_stft \n",
        "spectrogram = np.abs(audio_stft)\n",
        "# Converting the amplitude to decibels\n",
        "log_spectro = librosa.amplitude_to_db(spectrogram)\n",
        "# Plotting the short-time Fourier Transformation\n",
        "plt.figure(figsize=(4.32, 2.88))\n",
        "# Using librosa.display.specshow() to create our spectrogram\n",
        "librosa.display.specshow(log_spectro, sr=sr, hop_length=hop_length, cmap='magma')\n",
        "plt.savefig('predict.png')"
      ],
      "metadata": {
        "id": "YOja5zp9rVQP"
      },
      "execution_count": null,
      "outputs": []
    },
    {
      "cell_type": "code",
      "source": [
        "learn_inf = load_learner('drive/MyDrive/emlyon/genre_classification/export.pkl')"
      ],
      "metadata": {
        "id": "HNtSqybMr3w-"
      },
      "execution_count": null,
      "outputs": []
    },
    {
      "cell_type": "code",
      "source": [
        "pred,pred_idx,probs = learn_inf.predict('predict.png')"
      ],
      "metadata": {
        "id": "F9DerKaiFDbr"
      },
      "execution_count": null,
      "outputs": []
    },
    {
      "cell_type": "code",
      "source": [
        "img = Image.open(\"predict.png\")\n",
        "\n",
        "out_pl = widgets.Output()\n",
        "out_pl.clear_output()\n",
        "with out_pl: display(img)\n",
        "out_pl"
      ],
      "metadata": {
        "id": "I0FWTlD1H2Z5"
      },
      "execution_count": null,
      "outputs": []
    },
    {
      "cell_type": "code",
      "source": [
        "lbl_pred = widgets.Label()\n",
        "lbl_pred.value = 'Looks like you were listening to a', pred, 'track! I can assess that with' + str(round(float(probs[pred_idx])*100) '% probability'\n",
        "lbl_pred"
      ],
      "metadata": {
        "id": "xhigFVyks2n2"
      },
      "execution_count": null,
      "outputs": []
    }
  ]
}